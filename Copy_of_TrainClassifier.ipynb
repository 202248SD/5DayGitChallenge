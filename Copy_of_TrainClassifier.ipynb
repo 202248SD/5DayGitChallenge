{
  "nbformat": 4,
  "nbformat_minor": 0,
  "metadata": {
    "colab": {
      "provenance": [],
      "gpuType": "T4",
      "include_colab_link": true
    },
    "kernelspec": {
      "name": "python3",
      "display_name": "Python 3"
    },
    "language_info": {
      "name": "python"
    },
    "accelerator": "GPU"
  },
  "cells": [
    {
      "cell_type": "markdown",
      "metadata": {
        "id": "view-in-github",
        "colab_type": "text"
      },
      "source": [
        "<a href=\"https://colab.research.google.com/github/202248SD/5DayGitChallenge/blob/main/Copy_of_TrainClassifier.ipynb\" target=\"_parent\"><img src=\"https://colab.research.google.com/assets/colab-badge.svg\" alt=\"Open In Colab\"/></a>"
      ]
    },
    {
      "cell_type": "code",
      "execution_count": 1,
      "metadata": {
        "id": "FqU-ImfiC-UR"
      },
      "outputs": [],
      "source": [
        "import torch\n",
        "import torchvision.models as models\n",
        "from torchvision import transforms\n",
        "from torch.utils.data import Dataset\n",
        "from torch.utils.data import DataLoader\n",
        "import torch.nn as nn\n",
        "\n",
        "from glob import glob\n",
        "import os\n",
        "\n",
        "from PIL import Image\n",
        "import matplotlib.pyplot as plt\n",
        "\n",
        "import random\n",
        "\n",
        "import time"
      ]
    },
    {
      "cell_type": "code",
      "source": [
        "# Load pre-trained ResNet-50\n",
        "resnet = models.resnet50(weights='DEFAULT')"
      ],
      "metadata": {
        "id": "W5DcD9FTAJOS",
        "outputId": "d0443d19-1473-4c1c-b645-f69ff01f1969",
        "colab": {
          "base_uri": "https://localhost:8080/"
        }
      },
      "execution_count": 2,
      "outputs": [
        {
          "output_type": "stream",
          "name": "stderr",
          "text": [
            "Downloading: \"https://download.pytorch.org/models/resnet50-11ad3fa6.pth\" to /root/.cache/torch/hub/checkpoints/resnet50-11ad3fa6.pth\n",
            "100%|██████████| 97.8M/97.8M [00:01<00:00, 72.4MB/s]\n"
          ]
        }
      ]
    },
    {
      "cell_type": "code",
      "source": [
        "# Freeze all layers except the final fully-connected layer for fine-tuning\n",
        "for param in resnet.parameters():\n",
        "    param.requires_grad = False\n",
        "\n",
        "# Replace the final fully-connected layer with a new one (assuming 100 classes)\n",
        "num_ftrs = resnet.fc.in_features\n",
        "resnet.fc = torch.nn.Linear(num_ftrs, 120)"
      ],
      "metadata": {
        "id": "nWXiPWlcITgu"
      },
      "execution_count": 3,
      "outputs": []
    },
    {
      "cell_type": "code",
      "source": [
        "!wget http://vision.stanford.edu/aditya86/ImageNetDogs/images.tar\n",
        "\n",
        "# Extract the downloaded file\n",
        "!tar -xvf images.tar"
      ],
      "metadata": {
        "collapsed": true,
        "id": "dTFOXlbNIMHC"
      },
      "execution_count": null,
      "outputs": []
    },
    {
      "cell_type": "code",
      "source": [
        "class StanfordDogsDataset(Dataset):\n",
        "    def __init__(self, root_dir, transform=None):\n",
        "        self.root_dir = root_dir\n",
        "        self.transform = transform\n",
        "        self.classes = sorted(os.listdir(root_dir))\n",
        "        self.class_to_idx = {cls_name: i for i, cls_name in enumerate(self.classes)}\n",
        "        self.images = self._make_dataset()\n",
        "\n",
        "    def _make_dataset(self):\n",
        "        images = []\n",
        "        for class_name in self.classes:\n",
        "            class_dir = os.path.join(self.root_dir, class_name)\n",
        "            for img_name in os.listdir(class_dir):\n",
        "                if img_name.endswith('.jpg'):\n",
        "                    img_path = os.path.join(class_dir, img_name)\n",
        "                    item = (img_path, self.class_to_idx[class_name])\n",
        "                    images.append(item)\n",
        "        return images\n",
        "\n",
        "    def __len__(self):\n",
        "        return len(self.images)\n",
        "\n",
        "    def __getitem__(self, idx):\n",
        "        img_path, label = self.images[idx]\n",
        "        image = Image.open(img_path).convert('RGB')\n",
        "        if self.transform:\n",
        "            image = self.transform(image)\n",
        "        return image, label\n"
      ],
      "metadata": {
        "id": "36v5h0djJEfB"
      },
      "execution_count": 5,
      "outputs": []
    },
    {
      "cell_type": "code",
      "source": [
        "root_dir = '/content/Images'\n",
        "transform = transforms.Compose([\n",
        "    transforms.RandomHorizontalFlip(),\n",
        "    transforms.RandomRotation(15),\n",
        "    transforms.Resize(256),\n",
        "    transforms.CenterCrop(224),\n",
        "    transforms.ToTensor(),\n",
        "    transforms.Normalize(mean=[0.485, 0.456, 0.406], std=[0.229, 0.224, 0.225]),\n",
        "])\n",
        "\n",
        "\n",
        "dataset = StanfordDogsDataset(root_dir, transform=transform)"
      ],
      "metadata": {
        "id": "wbvM7pyjNeml"
      },
      "execution_count": 6,
      "outputs": []
    },
    {
      "cell_type": "code",
      "source": [
        "dataloader = DataLoader(dataset, batch_size=32, shuffle=True)"
      ],
      "metadata": {
        "id": "8mSjwjm0NhlW"
      },
      "execution_count": 7,
      "outputs": []
    },
    {
      "cell_type": "code",
      "source": [
        "def train_epoch(dataloader, model, loss_fn, optimizer, device):\n",
        "    model.train()\n",
        "    size = len(dataloader)\n",
        "    epoch_loss = []\n",
        "\n",
        "    for batch, (X, y) in enumerate(dataloader):\n",
        "        X, y = X.to(device), y.to(device)\n",
        "\n",
        "        # Forwardprop\n",
        "        out = model(X)\n",
        "\n",
        "        loss = loss_fn(out, y)\n",
        "        epoch_loss.append(loss.item())\n",
        "\n",
        "        # Backprop\n",
        "        loss.backward()\n",
        "        optimizer.step()\n",
        "        optimizer.zero_grad()\n",
        "\n",
        "        if batch % 100 == 0:\n",
        "            loss = loss.item()\n",
        "            print(f\"loss: {loss:>7f}  [{batch:>5d}/{size:>5d}]\")\n",
        "\n",
        "    return model, epoch_loss"
      ],
      "metadata": {
        "id": "-_Wu-5o7Q_uL"
      },
      "execution_count": 8,
      "outputs": []
    },
    {
      "cell_type": "code",
      "source": [
        "def plot_loss(total_loss):\n",
        "  batch_arr = [i+1 for i in range(len(total_loss))]\n",
        "  plt.plot(batch_arr, total_loss)\n",
        "\n",
        "  plt.xlabel('Batch no.')\n",
        "  plt.ylabel('Loss')\n",
        "\n",
        "  plt.show()"
      ],
      "metadata": {
        "id": "6C3cqKMFWkqH"
      },
      "execution_count": 9,
      "outputs": []
    },
    {
      "cell_type": "code",
      "source": [
        "device = (\"cuda\" if torch.cuda.is_available() else \"mps\" if torch.backends.mps.is_available() else \"cpu\") # set device\n",
        "print(f\"Using device: {device}\")"
      ],
      "metadata": {
        "colab": {
          "base_uri": "https://localhost:8080/"
        },
        "id": "4nxfyNj1RoMT",
        "outputId": "3351f650-0822-4d45-af28-b4b74f1a24d4"
      },
      "execution_count": 10,
      "outputs": [
        {
          "output_type": "stream",
          "name": "stdout",
          "text": [
            "Using device: cuda\n"
          ]
        }
      ]
    },
    {
      "cell_type": "code",
      "source": [
        "model = resnet.to(device)"
      ],
      "metadata": {
        "id": "q8CbW9lKRpK4"
      },
      "execution_count": 11,
      "outputs": []
    },
    {
      "cell_type": "code",
      "source": [
        "criterion = nn.CrossEntropyLoss()\n",
        "optimizer = torch.optim.SGD(model.parameters(), lr=0.001, momentum=0.9)"
      ],
      "metadata": {
        "id": "hhsOkaqNRjGa"
      },
      "execution_count": 12,
      "outputs": []
    },
    {
      "cell_type": "code",
      "source": [
        "epochs = 25 # transfer learning for last layer\n",
        "total_loss = []\n",
        "for t in range(epochs):\n",
        "  print(f\"Epoch {t+1}\\n-------------------------------\")\n",
        "\n",
        "  epoch_start = time.time()\n",
        "  model, epoch_loss = train_epoch(dataloader, model, criterion, optimizer, device)\n",
        "  epoch_end = time.time()\n",
        "\n",
        "  total_loss.extend(epoch_loss)\n",
        "\n",
        "  print(f\"Epoch time: {epoch_end - epoch_start} seconds\")\n",
        "  print('')"
      ],
      "metadata": {
        "colab": {
          "base_uri": "https://localhost:8080/"
        },
        "id": "6cxWCPCPXvg1",
        "outputId": "06996e55-d159-41b0-a000-af32c8adb8f6"
      },
      "execution_count": 13,
      "outputs": [
        {
          "output_type": "stream",
          "name": "stdout",
          "text": [
            "Epoch 1\n",
            "-------------------------------\n",
            "loss: 4.792093  [    0/  644]\n",
            "loss: 4.478464  [  100/  644]\n",
            "loss: 4.235015  [  200/  644]\n",
            "loss: 3.899845  [  300/  644]\n",
            "loss: 3.722217  [  400/  644]\n",
            "loss: 3.690424  [  500/  644]\n",
            "loss: 3.456212  [  600/  644]\n",
            "Epoch time: 171.40681672096252 seconds\n",
            "\n",
            "Epoch 2\n",
            "-------------------------------\n",
            "loss: 3.139540  [    0/  644]\n",
            "loss: 2.930088  [  100/  644]\n",
            "loss: 2.931910  [  200/  644]\n",
            "loss: 2.619374  [  300/  644]\n",
            "loss: 2.313320  [  400/  644]\n",
            "loss: 2.347287  [  500/  644]\n",
            "loss: 2.415914  [  600/  644]\n",
            "Epoch time: 167.89528942108154 seconds\n",
            "\n",
            "Epoch 3\n",
            "-------------------------------\n",
            "loss: 2.117315  [    0/  644]\n",
            "loss: 2.245603  [  100/  644]\n",
            "loss: 1.971990  [  200/  644]\n",
            "loss: 1.715344  [  300/  644]\n",
            "loss: 1.819436  [  400/  644]\n",
            "loss: 1.952984  [  500/  644]\n",
            "loss: 1.755144  [  600/  644]\n",
            "Epoch time: 171.07868456840515 seconds\n",
            "\n",
            "Epoch 4\n",
            "-------------------------------\n",
            "loss: 1.379584  [    0/  644]\n",
            "loss: 1.651527  [  100/  644]\n",
            "loss: 1.733942  [  200/  644]\n",
            "loss: 1.313913  [  300/  644]\n",
            "loss: 1.054754  [  400/  644]\n",
            "loss: 1.447818  [  500/  644]\n",
            "loss: 1.177643  [  600/  644]\n",
            "Epoch time: 169.84457087516785 seconds\n",
            "\n",
            "Epoch 5\n",
            "-------------------------------\n",
            "loss: 1.115208  [    0/  644]\n",
            "loss: 1.318354  [  100/  644]\n",
            "loss: 1.194468  [  200/  644]\n",
            "loss: 1.221475  [  300/  644]\n",
            "loss: 1.282140  [  400/  644]\n",
            "loss: 1.161842  [  500/  644]\n",
            "loss: 0.982227  [  600/  644]\n",
            "Epoch time: 168.8240954875946 seconds\n",
            "\n",
            "Epoch 6\n",
            "-------------------------------\n",
            "loss: 1.070003  [    0/  644]\n",
            "loss: 0.951540  [  100/  644]\n",
            "loss: 0.981062  [  200/  644]\n",
            "loss: 1.058702  [  300/  644]\n",
            "loss: 1.252985  [  400/  644]\n",
            "loss: 1.026068  [  500/  644]\n",
            "loss: 0.835596  [  600/  644]\n",
            "Epoch time: 168.31144428253174 seconds\n",
            "\n",
            "Epoch 7\n",
            "-------------------------------\n",
            "loss: 0.858264  [    0/  644]\n",
            "loss: 1.155998  [  100/  644]\n",
            "loss: 0.909599  [  200/  644]\n",
            "loss: 0.875459  [  300/  644]\n",
            "loss: 1.031142  [  400/  644]\n",
            "loss: 0.682772  [  500/  644]\n",
            "loss: 0.795653  [  600/  644]\n",
            "Epoch time: 168.94445157051086 seconds\n",
            "\n",
            "Epoch 8\n",
            "-------------------------------\n",
            "loss: 0.790459  [    0/  644]\n",
            "loss: 0.837818  [  100/  644]\n",
            "loss: 0.580918  [  200/  644]\n",
            "loss: 1.031965  [  300/  644]\n",
            "loss: 0.855816  [  400/  644]\n",
            "loss: 0.911855  [  500/  644]\n",
            "loss: 0.748588  [  600/  644]\n",
            "Epoch time: 167.58841347694397 seconds\n",
            "\n",
            "Epoch 9\n",
            "-------------------------------\n",
            "loss: 0.881223  [    0/  644]\n",
            "loss: 0.892931  [  100/  644]\n",
            "loss: 1.005009  [  200/  644]\n",
            "loss: 0.985144  [  300/  644]\n",
            "loss: 1.083510  [  400/  644]\n",
            "loss: 0.732544  [  500/  644]\n",
            "loss: 0.801493  [  600/  644]\n",
            "Epoch time: 167.23124384880066 seconds\n",
            "\n",
            "Epoch 10\n",
            "-------------------------------\n",
            "loss: 0.930893  [    0/  644]\n",
            "loss: 0.685963  [  100/  644]\n",
            "loss: 0.716165  [  200/  644]\n",
            "loss: 0.537401  [  300/  644]\n",
            "loss: 0.876392  [  400/  644]\n",
            "loss: 0.755675  [  500/  644]\n",
            "loss: 0.597834  [  600/  644]\n",
            "Epoch time: 167.23905730247498 seconds\n",
            "\n",
            "Epoch 11\n",
            "-------------------------------\n",
            "loss: 0.831734  [    0/  644]\n",
            "loss: 0.590145  [  100/  644]\n",
            "loss: 0.931049  [  200/  644]\n",
            "loss: 0.532820  [  300/  644]\n",
            "loss: 0.613010  [  400/  644]\n",
            "loss: 0.543579  [  500/  644]\n",
            "loss: 0.561501  [  600/  644]\n",
            "Epoch time: 167.30277514457703 seconds\n",
            "\n",
            "Epoch 12\n",
            "-------------------------------\n",
            "loss: 0.727822  [    0/  644]\n",
            "loss: 0.816997  [  100/  644]\n",
            "loss: 0.559039  [  200/  644]\n",
            "loss: 0.495707  [  300/  644]\n",
            "loss: 0.516545  [  400/  644]\n",
            "loss: 0.475900  [  500/  644]\n",
            "loss: 0.936052  [  600/  644]\n",
            "Epoch time: 166.9635148048401 seconds\n",
            "\n",
            "Epoch 13\n",
            "-------------------------------\n",
            "loss: 0.739762  [    0/  644]\n",
            "loss: 0.562787  [  100/  644]\n",
            "loss: 0.360834  [  200/  644]\n",
            "loss: 0.478301  [  300/  644]\n",
            "loss: 0.714555  [  400/  644]\n",
            "loss: 0.453680  [  500/  644]\n",
            "loss: 0.686394  [  600/  644]\n",
            "Epoch time: 167.1724932193756 seconds\n",
            "\n",
            "Epoch 14\n",
            "-------------------------------\n",
            "loss: 0.533567  [    0/  644]\n",
            "loss: 0.818894  [  100/  644]\n",
            "loss: 1.001300  [  200/  644]\n",
            "loss: 0.890406  [  300/  644]\n",
            "loss: 0.741078  [  400/  644]\n",
            "loss: 0.449195  [  500/  644]\n",
            "loss: 0.694915  [  600/  644]\n",
            "Epoch time: 166.5361683368683 seconds\n",
            "\n",
            "Epoch 15\n",
            "-------------------------------\n",
            "loss: 0.640982  [    0/  644]\n",
            "loss: 0.429075  [  100/  644]\n",
            "loss: 0.440803  [  200/  644]\n",
            "loss: 0.498951  [  300/  644]\n",
            "loss: 0.809597  [  400/  644]\n",
            "loss: 0.509160  [  500/  644]\n",
            "loss: 0.577367  [  600/  644]\n",
            "Epoch time: 169.5250747203827 seconds\n",
            "\n",
            "Epoch 16\n",
            "-------------------------------\n",
            "loss: 0.587016  [    0/  644]\n",
            "loss: 0.528947  [  100/  644]\n",
            "loss: 0.369765  [  200/  644]\n",
            "loss: 0.682653  [  300/  644]\n",
            "loss: 0.524842  [  400/  644]\n",
            "loss: 0.651996  [  500/  644]\n",
            "loss: 0.430747  [  600/  644]\n",
            "Epoch time: 170.52347540855408 seconds\n",
            "\n",
            "Epoch 17\n",
            "-------------------------------\n",
            "loss: 0.631575  [    0/  644]\n",
            "loss: 0.500752  [  100/  644]\n",
            "loss: 0.616220  [  200/  644]\n",
            "loss: 0.664411  [  300/  644]\n",
            "loss: 0.745375  [  400/  644]\n",
            "loss: 0.670764  [  500/  644]\n",
            "loss: 0.566763  [  600/  644]\n",
            "Epoch time: 169.37543034553528 seconds\n",
            "\n",
            "Epoch 18\n",
            "-------------------------------\n",
            "loss: 0.507203  [    0/  644]\n",
            "loss: 0.463907  [  100/  644]\n",
            "loss: 0.425289  [  200/  644]\n",
            "loss: 0.620380  [  300/  644]\n",
            "loss: 0.531976  [  400/  644]\n",
            "loss: 0.654486  [  500/  644]\n",
            "loss: 0.515378  [  600/  644]\n",
            "Epoch time: 170.19442582130432 seconds\n",
            "\n",
            "Epoch 19\n",
            "-------------------------------\n",
            "loss: 0.353290  [    0/  644]\n",
            "loss: 0.513761  [  100/  644]\n",
            "loss: 0.532791  [  200/  644]\n",
            "loss: 0.659248  [  300/  644]\n",
            "loss: 0.539383  [  400/  644]\n",
            "loss: 0.511165  [  500/  644]\n",
            "loss: 0.763867  [  600/  644]\n",
            "Epoch time: 170.0554461479187 seconds\n",
            "\n",
            "Epoch 20\n",
            "-------------------------------\n",
            "loss: 0.686678  [    0/  644]\n",
            "loss: 0.938711  [  100/  644]\n",
            "loss: 0.683612  [  200/  644]\n",
            "loss: 0.490472  [  300/  644]\n",
            "loss: 0.534134  [  400/  644]\n",
            "loss: 0.525960  [  500/  644]\n",
            "loss: 0.210703  [  600/  644]\n",
            "Epoch time: 170.70700311660767 seconds\n",
            "\n",
            "Epoch 21\n",
            "-------------------------------\n",
            "loss: 0.402227  [    0/  644]\n",
            "loss: 0.370117  [  100/  644]\n",
            "loss: 0.488957  [  200/  644]\n",
            "loss: 0.511352  [  300/  644]\n",
            "loss: 0.576142  [  400/  644]\n",
            "loss: 0.668158  [  500/  644]\n",
            "loss: 0.391960  [  600/  644]\n",
            "Epoch time: 170.0276517868042 seconds\n",
            "\n",
            "Epoch 22\n",
            "-------------------------------\n",
            "loss: 0.831169  [    0/  644]\n",
            "loss: 0.561617  [  100/  644]\n",
            "loss: 0.451593  [  200/  644]\n",
            "loss: 0.344193  [  300/  644]\n",
            "loss: 0.657230  [  400/  644]\n",
            "loss: 0.434460  [  500/  644]\n",
            "loss: 0.544231  [  600/  644]\n",
            "Epoch time: 170.5537805557251 seconds\n",
            "\n",
            "Epoch 23\n",
            "-------------------------------\n",
            "loss: 0.517243  [    0/  644]\n",
            "loss: 0.778035  [  100/  644]\n",
            "loss: 0.477195  [  200/  644]\n",
            "loss: 0.547371  [  300/  644]\n",
            "loss: 0.423327  [  400/  644]\n",
            "loss: 0.459363  [  500/  644]\n",
            "loss: 0.495565  [  600/  644]\n",
            "Epoch time: 169.2911937236786 seconds\n",
            "\n",
            "Epoch 24\n",
            "-------------------------------\n",
            "loss: 0.383131  [    0/  644]\n",
            "loss: 0.616757  [  100/  644]\n",
            "loss: 0.585993  [  200/  644]\n",
            "loss: 0.273784  [  300/  644]\n",
            "loss: 0.394707  [  400/  644]\n",
            "loss: 0.493808  [  500/  644]\n",
            "loss: 0.639041  [  600/  644]\n",
            "Epoch time: 170.47162699699402 seconds\n",
            "\n",
            "Epoch 25\n",
            "-------------------------------\n",
            "loss: 0.413298  [    0/  644]\n",
            "loss: 0.542597  [  100/  644]\n",
            "loss: 0.655786  [  200/  644]\n",
            "loss: 0.321252  [  300/  644]\n",
            "loss: 0.550910  [  400/  644]\n",
            "loss: 0.372888  [  500/  644]\n",
            "loss: 0.548212  [  600/  644]\n",
            "Epoch time: 170.01287841796875 seconds\n",
            "\n"
          ]
        }
      ]
    },
    {
      "cell_type": "code",
      "source": [
        "plot_loss(total_loss)"
      ],
      "metadata": {
        "id": "B2dWEThRVx2s",
        "colab": {
          "base_uri": "https://localhost:8080/",
          "height": 449
        },
        "outputId": "750eec89-f913-43af-ea99-c2c23e2c4f96"
      },
      "execution_count": 14,
      "outputs": [
        {
          "output_type": "display_data",
          "data": {
            "text/plain": [
              "<Figure size 640x480 with 1 Axes>"
            ],
            "image/png": "[encoded data removed]"
          },
          "metadata": {}
        }
      ]
    },
    {
      "cell_type": "code",
      "source": [
        "for param in resnet.parameters():\n",
        "  param.requires_grad = True\n",
        "optimizer = torch.optim.SGD(model.parameters(), lr=0.0005, momentum=0.9)"
      ],
      "metadata": {
        "id": "FTDDQGvLW4an"
      },
      "execution_count": 15,
      "outputs": []
    },
    {
      "cell_type": "code",
      "source": [
        "epochs = 15  # fine tune all layers\n",
        "for t in range(epochs):\n",
        "  print(f\"Epoch {t+1}\\n-------------------------------\")\n",
        "\n",
        "  epoch_start = time.time()\n",
        "  model, epoch_loss = train_epoch(dataloader, model, criterion, optimizer, device)\n",
        "  epoch_end = time.time()\n",
        "\n",
        "  total_loss.extend(epoch_loss)\n",
        "\n",
        "  print(f\"Epoch time: {epoch_end - epoch_start} seconds\")\n",
        "  print('')"
      ],
      "metadata": {
        "id": "ZfL5_7-zXDIT",
        "colab": {
          "base_uri": "https://localhost:8080/"
        },
        "outputId": "ff405592-2a77-4de5-c3ef-90b83470b245"
      },
      "execution_count": 16,
      "outputs": [
        {
          "output_type": "stream",
          "name": "stdout",
          "text": [
            "Epoch 1\n",
            "-------------------------------\n",
            "loss: 0.585957  [    0/  644]\n",
            "loss: 0.283501  [  100/  644]\n",
            "loss: 0.353487  [  200/  644]\n",
            "loss: 0.159730  [  300/  644]\n",
            "loss: 0.204333  [  400/  644]\n",
            "loss: 0.491710  [  500/  644]\n",
            "loss: 0.255190  [  600/  644]\n",
            "Epoch time: 202.50896000862122 seconds\n",
            "\n",
            "Epoch 2\n",
            "-------------------------------\n",
            "loss: 0.323496  [    0/  644]\n",
            "loss: 0.347663  [  100/  644]\n",
            "loss: 0.250700  [  200/  644]\n",
            "loss: 0.530459  [  300/  644]\n",
            "loss: 0.416398  [  400/  644]\n",
            "loss: 0.464864  [  500/  644]\n",
            "loss: 0.336425  [  600/  644]\n",
            "Epoch time: 202.32160139083862 seconds\n",
            "\n",
            "Epoch 3\n",
            "-------------------------------\n",
            "loss: 0.184296  [    0/  644]\n",
            "loss: 0.177194  [  100/  644]\n",
            "loss: 0.179906  [  200/  644]\n",
            "loss: 0.258105  [  300/  644]\n",
            "loss: 0.342162  [  400/  644]\n",
            "loss: 0.306546  [  500/  644]\n",
            "loss: 0.674564  [  600/  644]\n",
            "Epoch time: 202.70002341270447 seconds\n",
            "\n",
            "Epoch 4\n",
            "-------------------------------\n",
            "loss: 0.156144  [    0/  644]\n",
            "loss: 0.109130  [  100/  644]\n",
            "loss: 0.203043  [  200/  644]\n",
            "loss: 0.250525  [  300/  644]\n",
            "loss: 0.203066  [  400/  644]\n",
            "loss: 0.330990  [  500/  644]\n",
            "loss: 0.428635  [  600/  644]\n",
            "Epoch time: 202.1009542942047 seconds\n",
            "\n",
            "Epoch 5\n",
            "-------------------------------\n",
            "loss: 0.236612  [    0/  644]\n",
            "loss: 0.227098  [  100/  644]\n",
            "loss: 0.199867  [  200/  644]\n",
            "loss: 0.414375  [  300/  644]\n",
            "loss: 0.238087  [  400/  644]\n",
            "loss: 0.220923  [  500/  644]\n",
            "loss: 0.213604  [  600/  644]\n",
            "Epoch time: 202.4252588748932 seconds\n",
            "\n",
            "Epoch 6\n",
            "-------------------------------\n",
            "loss: 0.168350  [    0/  644]\n",
            "loss: 0.185860  [  100/  644]\n",
            "loss: 0.166318  [  200/  644]\n",
            "loss: 0.325176  [  300/  644]\n",
            "loss: 0.342782  [  400/  644]\n",
            "loss: 0.331411  [  500/  644]\n",
            "loss: 0.131328  [  600/  644]\n",
            "Epoch time: 201.9798219203949 seconds\n",
            "\n",
            "Epoch 7\n",
            "-------------------------------\n",
            "loss: 0.074756  [    0/  644]\n",
            "loss: 0.421722  [  100/  644]\n",
            "loss: 0.181234  [  200/  644]\n",
            "loss: 0.367806  [  300/  644]\n",
            "loss: 0.146418  [  400/  644]\n",
            "loss: 0.050478  [  500/  644]\n",
            "loss: 0.180931  [  600/  644]\n",
            "Epoch time: 202.13651299476624 seconds\n",
            "\n",
            "Epoch 8\n",
            "-------------------------------\n",
            "loss: 0.374722  [    0/  644]\n",
            "loss: 0.211348  [  100/  644]\n",
            "loss: 0.222951  [  200/  644]\n",
            "loss: 0.137038  [  300/  644]\n",
            "loss: 0.086317  [  400/  644]\n",
            "loss: 0.179356  [  500/  644]\n",
            "loss: 0.111512  [  600/  644]\n",
            "Epoch time: 201.85988640785217 seconds\n",
            "\n",
            "Epoch 9\n",
            "-------------------------------\n",
            "loss: 0.174501  [    0/  644]\n",
            "loss: 0.077324  [  100/  644]\n",
            "loss: 0.084908  [  200/  644]\n",
            "loss: 0.139637  [  300/  644]\n",
            "loss: 0.118280  [  400/  644]\n",
            "loss: 0.258294  [  500/  644]\n",
            "loss: 0.232282  [  600/  644]\n",
            "Epoch time: 201.70845293998718 seconds\n",
            "\n",
            "Epoch 10\n",
            "-------------------------------\n",
            "loss: 0.123343  [    0/  644]\n",
            "loss: 0.084404  [  100/  644]\n",
            "loss: 0.185598  [  200/  644]\n",
            "loss: 0.099148  [  300/  644]\n",
            "loss: 0.100942  [  400/  644]\n",
            "loss: 0.134040  [  500/  644]\n",
            "loss: 0.225377  [  600/  644]\n",
            "Epoch time: 202.02762842178345 seconds\n",
            "\n",
            "Epoch 11\n",
            "-------------------------------\n",
            "loss: 0.018601  [    0/  644]\n",
            "loss: 0.092976  [  100/  644]\n",
            "loss: 0.081354  [  200/  644]\n",
            "loss: 0.040078  [  300/  644]\n",
            "loss: 0.144812  [  400/  644]\n",
            "loss: 0.128487  [  500/  644]\n",
            "loss: 0.286935  [  600/  644]\n",
            "Epoch time: 202.21216130256653 seconds\n",
            "\n",
            "Epoch 12\n",
            "-------------------------------\n",
            "loss: 0.099773  [    0/  644]\n",
            "loss: 0.205775  [  100/  644]\n",
            "loss: 0.157557  [  200/  644]\n",
            "loss: 0.339570  [  300/  644]\n",
            "loss: 0.228790  [  400/  644]\n",
            "loss: 0.123768  [  500/  644]\n",
            "loss: 0.131940  [  600/  644]\n",
            "Epoch time: 202.02788400650024 seconds\n",
            "\n",
            "Epoch 13\n",
            "-------------------------------\n",
            "loss: 0.074885  [    0/  644]\n",
            "loss: 0.070666  [  100/  644]\n",
            "loss: 0.104851  [  200/  644]\n",
            "loss: 0.057492  [  300/  644]\n",
            "loss: 0.122133  [  400/  644]\n",
            "loss: 0.148781  [  500/  644]\n",
            "loss: 0.311493  [  600/  644]\n",
            "Epoch time: 201.8725655078888 seconds\n",
            "\n",
            "Epoch 14\n",
            "-------------------------------\n",
            "loss: 0.049349  [    0/  644]\n",
            "loss: 0.099665  [  100/  644]\n",
            "loss: 0.122104  [  200/  644]\n",
            "loss: 0.100427  [  300/  644]\n",
            "loss: 0.113879  [  400/  644]\n",
            "loss: 0.225478  [  500/  644]\n",
            "loss: 0.173591  [  600/  644]\n",
            "Epoch time: 201.63929295539856 seconds\n",
            "\n",
            "Epoch 15\n",
            "-------------------------------\n",
            "loss: 0.094898  [    0/  644]\n",
            "loss: 0.144597  [  100/  644]\n",
            "loss: 0.057405  [  200/  644]\n",
            "loss: 0.055073  [  300/  644]\n",
            "loss: 0.107993  [  400/  644]\n",
            "loss: 0.115763  [  500/  644]\n",
            "loss: 0.116073  [  600/  644]\n",
            "Epoch time: 201.63433194160461 seconds\n",
            "\n"
          ]
        }
      ]
    },
    {
      "cell_type": "code",
      "source": [
        "plot_loss(total_loss)"
      ],
      "metadata": {
        "id": "GMNnDILJXJbe",
        "colab": {
          "base_uri": "https://localhost:8080/",
          "height": 449
        },
        "outputId": "4bfe80bb-421c-4314-8cac-7c56761cd9e7"
      },
      "execution_count": 17,
      "outputs": [
        {
          "output_type": "display_data",
          "data": {
            "text/plain": [
              "<Figure size 640x480 with 1 Axes>"
            ],
            "image/png": "[encoded data removed]"
          },
          "metadata": {}
        }
      ]
    },
    {
      "cell_type": "code",
      "source": [
        "torch.save(model.state_dict(), 'model.pth')"
      ],
      "metadata": {
        "id": "DSoIFJq9YMrB"
      },
      "execution_count": 18,
      "outputs": []
    },
    {
      "cell_type": "code",
      "source": [
        "criterion = nn.CrossEntropyLoss()\n",
        "test_loader = DataLoader(dataset, batch_size=1, shuffle=False)\n",
        "model.eval()\n",
        "\n",
        "test_loss = 0.0\n",
        "correct = 0\n",
        "total = 0\n",
        "\n",
        "with torch.no_grad():\n",
        "    for X, y in test_loader:\n",
        "        X, y = X.to(device), y.to(device)\n",
        "\n",
        "        outputs = model(X)\n",
        "\n",
        "        loss = criterion(outputs, y)\n",
        "\n",
        "        test_loss += loss.item()\n",
        "\n",
        "        _, predicted = torch.max(outputs, 1)\n",
        "\n",
        "        correct += (predicted == y).sum().item()\n",
        "\n",
        "        total += 1\n",
        "\n",
        "avg_test_loss = test_loss / total\n",
        "\n",
        "accuracy = correct / total * 100.0\n",
        "\n",
        "print(f\"Test Loss: {avg_test_loss:.4f}\")\n",
        "print(f\"Test Accuracy: {accuracy:.2f}%\")"
      ],
      "metadata": {
        "id": "H2tKNdnYm-4d",
        "colab": {
          "base_uri": "https://localhost:8080/"
        },
        "outputId": "4d987ba3-0d23-4b97-d0a9-078987b1ce3c"
      },
      "execution_count": 20,
      "outputs": [
        {
          "output_type": "stream",
          "name": "stdout",
          "text": [
            "Test Loss: 0.0701\n",
            "Test Accuracy: 98.32%\n"
          ]
        }
      ]
    },
    {
      "cell_type": "code",
      "source": [
        "print(dataset.class_to_idx)"
      ],
      "metadata": {
        "id": "HeuaWgYIBvq6",
        "outputId": "f58ed87f-8f4b-47d5-ec55-5384d5c8a2ab",
        "colab": {
          "base_uri": "https://localhost:8080/"
        }
      },
      "execution_count": 21,
      "outputs": [
        {
          "output_type": "stream",
          "name": "stdout",
          "text": [
            "{'n02085620-Chihuahua': 0, 'n02085782-Japanese_spaniel': 1, 'n02085936-Maltese_dog': 2, 'n02086079-Pekinese': 3, 'n02086240-Shih-Tzu': 4, 'n02086646-Blenheim_spaniel': 5, 'n02086910-papillon': 6, 'n02087046-toy_terrier': 7, 'n02087394-Rhodesian_ridgeback': 8, 'n02088094-Afghan_hound': 9, 'n02088238-basset': 10, 'n02088364-beagle': 11, 'n02088466-bloodhound': 12, 'n02088632-bluetick': 13, 'n02089078-black-and-tan_coonhound': 14, 'n02089867-Walker_hound': 15, 'n02089973-English_foxhound': 16, 'n02090379-redbone': 17, 'n02090622-borzoi': 18, 'n02090721-Irish_wolfhound': 19, 'n02091032-Italian_greyhound': 20, 'n02091134-whippet': 21, 'n02091244-Ibizan_hound': 22, 'n02091467-Norwegian_elkhound': 23, 'n02091635-otterhound': 24, 'n02091831-Saluki': 25, 'n02092002-Scottish_deerhound': 26, 'n02092339-Weimaraner': 27, 'n02093256-Staffordshire_bullterrier': 28, 'n02093428-American_Staffordshire_terrier': 29, 'n02093647-Bedlington_terrier': 30, 'n02093754-Border_terrier': 31, 'n02093859-Kerry_blue_terrier': 32, 'n02093991-Irish_terrier': 33, 'n02094114-Norfolk_terrier': 34, 'n02094258-Norwich_terrier': 35, 'n02094433-Yorkshire_terrier': 36, 'n02095314-wire-haired_fox_terrier': 37, 'n02095570-Lakeland_terrier': 38, 'n02095889-Sealyham_terrier': 39, 'n02096051-Airedale': 40, 'n02096177-cairn': 41, 'n02096294-Australian_terrier': 42, 'n02096437-Dandie_Dinmont': 43, 'n02096585-Boston_bull': 44, 'n02097047-miniature_schnauzer': 45, 'n02097130-giant_schnauzer': 46, 'n02097209-standard_schnauzer': 47, 'n02097298-Scotch_terrier': 48, 'n02097474-Tibetan_terrier': 49, 'n02097658-silky_terrier': 50, 'n02098105-soft-coated_wheaten_terrier': 51, 'n02098286-West_Highland_white_terrier': 52, 'n02098413-Lhasa': 53, 'n02099267-flat-coated_retriever': 54, 'n02099429-curly-coated_retriever': 55, 'n02099601-golden_retriever': 56, 'n02099712-Labrador_retriever': 57, 'n02099849-Chesapeake_Bay_retriever': 58, 'n02100236-German_short-haired_pointer': 59, 'n02100583-vizsla': 60, 'n02100735-English_setter': 61, 'n02100877-Irish_setter': 62, 'n02101006-Gordon_setter': 63, 'n02101388-Brittany_spaniel': 64, 'n02101556-clumber': 65, 'n02102040-English_springer': 66, 'n02102177-Welsh_springer_spaniel': 67, 'n02102318-cocker_spaniel': 68, 'n02102480-Sussex_spaniel': 69, 'n02102973-Irish_water_spaniel': 70, 'n02104029-kuvasz': 71, 'n02104365-schipperke': 72, 'n02105056-groenendael': 73, 'n02105162-malinois': 74, 'n02105251-briard': 75, 'n02105412-kelpie': 76, 'n02105505-komondor': 77, 'n02105641-Old_English_sheepdog': 78, 'n02105855-Shetland_sheepdog': 79, 'n02106030-collie': 80, 'n02106166-Border_collie': 81, 'n02106382-Bouvier_des_Flandres': 82, 'n02106550-Rottweiler': 83, 'n02106662-German_shepherd': 84, 'n02107142-Doberman': 85, 'n02107312-miniature_pinscher': 86, 'n02107574-Greater_Swiss_Mountain_dog': 87, 'n02107683-Bernese_mountain_dog': 88, 'n02107908-Appenzeller': 89, 'n02108000-EntleBucher': 90, 'n02108089-boxer': 91, 'n02108422-bull_mastiff': 92, 'n02108551-Tibetan_mastiff': 93, 'n02108915-French_bulldog': 94, 'n02109047-Great_Dane': 95, 'n02109525-Saint_Bernard': 96, 'n02109961-Eskimo_dog': 97, 'n02110063-malamute': 98, 'n02110185-Siberian_husky': 99, 'n02110627-affenpinscher': 100, 'n02110806-basenji': 101, 'n02110958-pug': 102, 'n02111129-Leonberg': 103, 'n02111277-Newfoundland': 104, 'n02111500-Great_Pyrenees': 105, 'n02111889-Samoyed': 106, 'n02112018-Pomeranian': 107, 'n02112137-chow': 108, 'n02112350-keeshond': 109, 'n02112706-Brabancon_griffon': 110, 'n02113023-Pembroke': 111, 'n02113186-Cardigan': 112, 'n02113624-toy_poodle': 113, 'n02113712-miniature_poodle': 114, 'n02113799-standard_poodle': 115, 'n02113978-Mexican_hairless': 116, 'n02115641-dingo': 117, 'n02115913-dhole': 118, 'n02116738-African_hunting_dog': 119}\n"
          ]
        }
      ]
    },
    {
      "cell_type": "code",
      "source": [
        "idx_to_class = {i : cls_name[10:] for cls_name, i in dataset.class_to_idx.items()}\n",
        "print(idx_to_class)"
      ],
      "metadata": {
        "id": "MZoOHHJNCtjJ",
        "outputId": "ad118559-8115-4ca0-f704-881893563363",
        "colab": {
          "base_uri": "https://localhost:8080/"
        }
      },
      "execution_count": 22,
      "outputs": [
        {
          "output_type": "stream",
          "name": "stdout",
          "text": [
            "{0: 'Chihuahua', 1: 'Japanese_spaniel', 2: 'Maltese_dog', 3: 'Pekinese', 4: 'Shih-Tzu', 5: 'Blenheim_spaniel', 6: 'papillon', 7: 'toy_terrier', 8: 'Rhodesian_ridgeback', 9: 'Afghan_hound', 10: 'basset', 11: 'beagle', 12: 'bloodhound', 13: 'bluetick', 14: 'black-and-tan_coonhound', 15: 'Walker_hound', 16: 'English_foxhound', 17: 'redbone', 18: 'borzoi', 19: 'Irish_wolfhound', 20: 'Italian_greyhound', 21: 'whippet', 22: 'Ibizan_hound', 23: 'Norwegian_elkhound', 24: 'otterhound', 25: 'Saluki', 26: 'Scottish_deerhound', 27: 'Weimaraner', 28: 'Staffordshire_bullterrier', 29: 'American_Staffordshire_terrier', 30: 'Bedlington_terrier', 31: 'Border_terrier', 32: 'Kerry_blue_terrier', 33: 'Irish_terrier', 34: 'Norfolk_terrier', 35: 'Norwich_terrier', 36: 'Yorkshire_terrier', 37: 'wire-haired_fox_terrier', 38: 'Lakeland_terrier', 39: 'Sealyham_terrier', 40: 'Airedale', 41: 'cairn', 42: 'Australian_terrier', 43: 'Dandie_Dinmont', 44: 'Boston_bull', 45: 'miniature_schnauzer', 46: 'giant_schnauzer', 47: 'standard_schnauzer', 48: 'Scotch_terrier', 49: 'Tibetan_terrier', 50: 'silky_terrier', 51: 'soft-coated_wheaten_terrier', 52: 'West_Highland_white_terrier', 53: 'Lhasa', 54: 'flat-coated_retriever', 55: 'curly-coated_retriever', 56: 'golden_retriever', 57: 'Labrador_retriever', 58: 'Chesapeake_Bay_retriever', 59: 'German_short-haired_pointer', 60: 'vizsla', 61: 'English_setter', 62: 'Irish_setter', 63: 'Gordon_setter', 64: 'Brittany_spaniel', 65: 'clumber', 66: 'English_springer', 67: 'Welsh_springer_spaniel', 68: 'cocker_spaniel', 69: 'Sussex_spaniel', 70: 'Irish_water_spaniel', 71: 'kuvasz', 72: 'schipperke', 73: 'groenendael', 74: 'malinois', 75: 'briard', 76: 'kelpie', 77: 'komondor', 78: 'Old_English_sheepdog', 79: 'Shetland_sheepdog', 80: 'collie', 81: 'Border_collie', 82: 'Bouvier_des_Flandres', 83: 'Rottweiler', 84: 'German_shepherd', 85: 'Doberman', 86: 'miniature_pinscher', 87: 'Greater_Swiss_Mountain_dog', 88: 'Bernese_mountain_dog', 89: 'Appenzeller', 90: 'EntleBucher', 91: 'boxer', 92: 'bull_mastiff', 93: 'Tibetan_mastiff', 94: 'French_bulldog', 95: 'Great_Dane', 96: 'Saint_Bernard', 97: 'Eskimo_dog', 98: 'malamute', 99: 'Siberian_husky', 100: 'affenpinscher', 101: 'basenji', 102: 'pug', 103: 'Leonberg', 104: 'Newfoundland', 105: 'Great_Pyrenees', 106: 'Samoyed', 107: 'Pomeranian', 108: 'chow', 109: 'keeshond', 110: 'Brabancon_griffon', 111: 'Pembroke', 112: 'Cardigan', 113: 'toy_poodle', 114: 'miniature_poodle', 115: 'standard_poodle', 116: 'Mexican_hairless', 117: 'dingo', 118: 'dhole', 119: 'African_hunting_dog'}\n"
          ]
        }
      ]
    }
  ]
}